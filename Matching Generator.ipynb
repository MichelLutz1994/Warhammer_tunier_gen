{
 "cells": [
  {
   "cell_type": "markdown",
   "id": "cdc3e3fe",
   "metadata": {},
   "source": [
    "Matching Generator:"
   ]
  },
  {
   "cell_type": "code",
   "execution_count": 825,
   "id": "b7b0330c",
   "metadata": {},
   "outputs": [
    {
     "name": "stdout",
     "output_type": "stream",
     "text": [
      "Total Number of Games: 6\n",
      "\n",
      "Game 1: \tAnja \t v.s. \t Michel\n",
      "Game 2: \tThorn \t v.s. \t Michel\n",
      "Game 3: \tMaze \t v.s. \t Anja\n",
      "Game 4: \tMaze \t v.s. \t Michel\n",
      "Game 5: \tThorn \t v.s. \t Anja\n",
      "Game 6: \tMaze \t v.s. \t Thorn\n"
     ]
    }
   ],
   "source": [
    "#Define parameters\n",
    "num_players = 4        #Total Number of Players\n",
    "num_matches = 3       #Games per Player\n",
    "all_against_all = True\n",
    "\n",
    "p_name = [\"Michel\",\n",
    "          \"Anja\",\n",
    "          \"Thorn\",\n",
    "          \"Maze\" ]\n",
    "\n",
    "#num_Games, num_matches = set_num_Games()\n",
    "#get_game(num_Games)\n",
    "get_matches()"
   ]
  },
  {
   "cell_type": "code",
   "execution_count": 449,
   "id": "4b068bcf",
   "metadata": {
    "scrolled": true
   },
   "outputs": [
    {
     "name": "stdout",
     "output_type": "stream",
     "text": [
      "Requirement already satisfied: scipy in c:\\users\\miche\\anaconda3\\lib\\site-packages (1.6.2)\n",
      "Requirement already satisfied: numpy<1.23.0,>=1.16.5 in c:\\users\\miche\\anaconda3\\lib\\site-packages (from scipy) (1.20.1)\n"
     ]
    }
   ],
   "source": [
    "!pip install scipy\n",
    "from scipy.special import binom\n",
    "import numpy\n",
    "import random as r\n",
    "import itertools as it\n",
    "import copy"
   ]
  },
  {
   "cell_type": "code",
   "execution_count": 820,
   "id": "f9ada58e",
   "metadata": {},
   "outputs": [],
   "source": [
    "def set_num_Games():\n",
    "    #Parameters\n",
    "    if all_against_all:\n",
    "        num_Games = int(binom(num_players, 2))\n",
    "        num_matches2 = num_Games //2\n",
    "    else:\n",
    "        num_Games = num_players*num_matches//2\n",
    "        num_matches2 = num_matches\n",
    "    print(f'Total Number of Games: {num_Games}\\n')\n",
    "    return num_Games, num_matches2\n",
    "\n",
    "def row_sum(matches, row):\n",
    "    return sum([(lambda x:  0 if i == 0 else 1)(i) for i in matches[row,]])\n",
    "def col_sum(matches, col):\n",
    "    return sum([(lambda x:  0 if i == 0 else 1)(i) for i in matches.T[col,]])\n",
    "\n",
    "def vaild_match(matches, row, col):\n",
    "    if row == col:\n",
    "        return False\n",
    "    if row_sum(matches, row) >= num_matches:\n",
    "        return False\n",
    "    if col_sum(matches, col) >= num_matches:\n",
    "        return False\n",
    "    if matches[row,col] == 0:\n",
    "        return True\n",
    "    else:\n",
    "        return False\n",
    "    \n",
    "def set_game(matches, game, pos, num_Games):\n",
    "    if game > num_Games:\n",
    "        return matches\n",
    "    for i in pos:\n",
    "        row,col = i\n",
    "        if vaild_match(matches, row, col):\n",
    "            matches[row,col] = matches[col,row] = game\n",
    "            finished = set_game(copy.deepcopy(matches), game+1, pos, num_Games);\n",
    "            if type(finished) == numpy.ndarray:\n",
    "                return finished\n",
    "            else:\n",
    "                matches[row,col] = matches[col,row] = 0\n",
    "    return False\n",
    "\n",
    "def get_game(num_Games):\n",
    "    matches = numpy.zeros((num_players, num_players), dtype=int)\n",
    "    pos = list(it.combinations_with_replacement(range(num_players), 2))\n",
    "    r.shuffle(pos)\n",
    "    return set_game(matches, 1, pos, num_Games)\n",
    "\n",
    "def get_matches():\n",
    "    num_Games, num_matches = set_num_Games()\n",
    "    matches = get_game(num_Games)\n",
    "    for game in range(1,num_Games+1):\n",
    "        p1, p2 = numpy.where(matches == game)[1]\n",
    "        print(f'Game {game}: \\t{p_name[p1]} \\t v.s. \\t {p_name[p2]}')"
   ]
  }
 ],
 "metadata": {
  "kernelspec": {
   "display_name": "Python 3",
   "language": "python",
   "name": "python3"
  },
  "language_info": {
   "codemirror_mode": {
    "name": "ipython",
    "version": 3
   },
   "file_extension": ".py",
   "mimetype": "text/x-python",
   "name": "python",
   "nbconvert_exporter": "python",
   "pygments_lexer": "ipython3",
   "version": "3.8.8"
  }
 },
 "nbformat": 4,
 "nbformat_minor": 5
}
